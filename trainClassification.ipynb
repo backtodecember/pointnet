{
 "cells": [
  {
   "cell_type": "code",
   "execution_count": 1,
   "metadata": {},
   "outputs": [],
   "source": [
    "from model.model import *\n",
    "import torch\n",
    "import torch.nn as nn\n",
    "import torch.optim as optim\n",
    "import torch.nn.functional as F\n",
    "import matplotlib.pyplot as plt\n",
    "import pickle\n",
    "from dataset import ModelNet40Dataset\n",
    "import numpy as np\n",
    "import math\n",
    "%matplotlib inline\n",
    "from IPython.display import clear_output\n",
    "device = torch.device(\"cuda:0\" if torch.cuda.is_available() else \"cpu\")"
   ]
  },
  {
   "cell_type": "code",
   "execution_count": 2,
   "metadata": {},
   "outputs": [],
   "source": [
    "#load data\n",
    "filehandler = open('ModelNet40ProcessedDataset', 'rb') \n",
    "ModelNet40Data = pickle.load(filehandler)\n",
    "\n",
    "# print(len(ModelNet40Data.train['pcds']))\n",
    "def sample_data(data,batch_size):\n",
    "    total_N = len(data['pcds'])\n",
    "    indices = np.random.choice(total_N,batch_size,replace = False)\n",
    "    N_pts,d =  data['pcds'][0].shape\n",
    "    pcds = np.zeros((batch_size,N_pts,d))\n",
    "    labels = np.zeros(batch_size,dtype=int)\n",
    "    for i in range(batch_size):\n",
    "        pcd = data['pcds'][indices[i]]\n",
    "        #rotate pointcloud\n",
    "        a = np.random.rand()*math.pi\n",
    "        R = np.array([[math.cos(a),-math.sin(a),0.],\\\n",
    "              [math.sin(a),math.cos(a),0.],\\\n",
    "              [0.,0.,1.]])\n",
    "        pcd = pcd.dot(R)\n",
    "        #jitter\n",
    "        pcd += np.random.normal(0,0.02,size=pcd.shape)      \n",
    "        pcds[i,:,:] = pcd\n",
    "        labels[i] = int(data['labels'][indices[i]])\n",
    "    return pcds,labels\n",
    "    \n",
    "def get_data(data):\n",
    "    total_N = 600 #len(data['pcds'])\n",
    "    indices = np.arange(total_N)\n",
    "    N_pts,d =  data['pcds'][0].shape\n",
    "    pcds = np.zeros((total_N,N_pts,d))\n",
    "    labels = np.zeros(total_N,dtype=int)\n",
    "    for i in range(total_N):\n",
    "        #rotate and jitter pointcloud\n",
    "        pcds[i,:,:] = data['pcds'][indices[i]]\n",
    "        labels[i] = int(data['labels'][indices[i]])\n",
    "    return pcds,labels\n",
    "\n",
    "def compute_accuracy(preds,target):\n",
    "    tmp = preds.max(1).indices == target\n",
    "    return torch.sum(tmp).detach().cpu().numpy()/target.size(0)\n"
   ]
  },
  {
   "cell_type": "code",
   "execution_count": 3,
   "metadata": {},
   "outputs": [],
   "source": [
    "##Hyperparameters\n",
    "N_CLASSES = 40\n",
    "EPOCHS = 1000#2000\n",
    "BATCH_SIZE = 32\n",
    "INIT_LR = 0.001\n",
    "MOMENTUM = 0.9\n",
    "LR_STEP = 20\n",
    "SCHEDULER_GAMMA = 0.5\n",
    "TEST_EVERY = 1\n",
    "REG_WEIGHT = 0.001\n",
    "criterion = nn.CrossEntropyLoss()"
   ]
  },
  {
   "cell_type": "code",
   "execution_count": 4,
   "metadata": {
    "scrolled": true
   },
   "outputs": [],
   "source": [
    "net = PointNetClassification(N_CLASSES).to(device)\n",
    "optimizer = optim.Adam(params=net.parameters(), lr=INIT_LR)\n",
    "scheduler = optim.lr_scheduler.StepLR(optimizer, step_size=LR_STEP, gamma=SCHEDULER_GAMMA)\n"
   ]
  },
  {
   "cell_type": "code",
   "execution_count": 5,
   "metadata": {},
   "outputs": [
    {
     "name": "stdout",
     "output_type": "stream",
     "text": [
      "Epoch: 0 ;train and test accuracies: 0.0 0.0\n",
      "Epoch: 1 ;train and test accuracies: 0.03125 0.0\n",
      "Epoch: 2 ;train and test accuracies: 0.0 0.03125\n",
      "Epoch: 3 ;train and test accuracies: 0.125 0.0\n",
      "Epoch: 4 ;train and test accuracies: 0.125 0.03125\n",
      "Epoch: 5 ;train and test accuracies: 0.125 0.0\n",
      "Epoch: 6 ;train and test accuracies: 0.03125 0.03125\n",
      "Epoch: 7 ;train and test accuracies: 0.09375 0.09375\n",
      "Epoch: 8 ;train and test accuracies: 0.09375 0.0\n",
      "Epoch: 9 ;train and test accuracies: 0.1875 0.03125\n",
      "Epoch: 10 ;train and test accuracies: 0.09375 0.0625\n",
      "Epoch: 11 ;train and test accuracies: 0.0625 0.03125\n",
      "Epoch: 12 ;train and test accuracies: 0.09375 0.0\n",
      "Epoch: 13 ;train and test accuracies: 0.09375 0.0\n",
      "Epoch: 14 ;train and test accuracies: 0.03125 0.03125\n",
      "Epoch: 15 ;train and test accuracies: 0.0 0.03125\n",
      "Epoch: 16 ;train and test accuracies: 0.0 0.0\n",
      "Epoch: 17 ;train and test accuracies: 0.125 0.09375\n",
      "Epoch: 18 ;train and test accuracies: 0.15625 0.0\n",
      "Epoch: 19 ;train and test accuracies: 0.0625 0.03125\n",
      "Epoch: 20 ;train and test accuracies: 0.0 0.03125\n",
      "Epoch: 21 ;train and test accuracies: 0.0 0.0625\n",
      "Epoch: 22 ;train and test accuracies: 0.09375 0.0625\n",
      "Epoch: 23 ;train and test accuracies: 0.03125 0.0\n",
      "Epoch: 24 ;train and test accuracies: 0.03125 0.0625\n",
      "Epoch: 25 ;train and test accuracies: 0.09375 0.09375\n",
      "Epoch: 26 ;train and test accuracies: 0.09375 0.03125\n",
      "Epoch: 27 ;train and test accuracies: 0.0625 0.0625\n",
      "Epoch: 28 ;train and test accuracies: 0.15625 0.0625\n",
      "Epoch: 29 ;train and test accuracies: 0.03125 0.0\n",
      "Epoch: 30 ;train and test accuracies: 0.03125 0.0625\n",
      "Epoch: 31 ;train and test accuracies: 0.09375 0.0\n",
      "Epoch: 32 ;train and test accuracies: 0.09375 0.03125\n",
      "Epoch: 33 ;train and test accuracies: 0.0625 0.1875\n",
      "Epoch: 34 ;train and test accuracies: 0.0 0.125\n",
      "Epoch: 35 ;train and test accuracies: 0.0625 0.0625\n",
      "Epoch: 36 ;train and test accuracies: 0.03125 0.0\n",
      "Epoch: 37 ;train and test accuracies: 0.0 0.0625\n",
      "Epoch: 38 ;train and test accuracies: 0.15625 0.0\n",
      "Epoch: 39 ;train and test accuracies: 0.09375 0.03125\n"
     ]
    },
    {
     "ename": "KeyboardInterrupt",
     "evalue": "",
     "output_type": "error",
     "traceback": [
      "\u001b[0;31m---------------------------------------------------------------------------\u001b[0m",
      "\u001b[0;31mKeyboardInterrupt\u001b[0m                         Traceback (most recent call last)",
      "\u001b[0;32m<ipython-input-5-1729b18941a0>\u001b[0m in \u001b[0;36m<module>\u001b[0;34m()\u001b[0m\n\u001b[1;32m     40\u001b[0m             \u001b[0mlabels\u001b[0m \u001b[0;34m=\u001b[0m \u001b[0mtorch\u001b[0m\u001b[0;34m.\u001b[0m\u001b[0mfrom_numpy\u001b[0m\u001b[0;34m(\u001b[0m\u001b[0mlabels\u001b[0m\u001b[0;34m)\u001b[0m\u001b[0;34m.\u001b[0m\u001b[0mto\u001b[0m\u001b[0;34m(\u001b[0m\u001b[0mdevice\u001b[0m\u001b[0;34m)\u001b[0m\u001b[0;34m\u001b[0m\u001b[0;34m\u001b[0m\u001b[0m\n\u001b[1;32m     41\u001b[0m \u001b[0;34m\u001b[0m\u001b[0m\n\u001b[0;32m---> 42\u001b[0;31m             \u001b[0mpreds\u001b[0m\u001b[0;34m,\u001b[0m\u001b[0mM2\u001b[0m \u001b[0;34m=\u001b[0m \u001b[0mnet\u001b[0m\u001b[0;34m(\u001b[0m\u001b[0mdata\u001b[0m\u001b[0;34m)\u001b[0m\u001b[0;34m\u001b[0m\u001b[0;34m\u001b[0m\u001b[0m\n\u001b[0m\u001b[1;32m     43\u001b[0m             \u001b[0mtest_loss\u001b[0m \u001b[0;34m=\u001b[0m \u001b[0mcriterion\u001b[0m\u001b[0;34m(\u001b[0m\u001b[0mpreds\u001b[0m\u001b[0;34m,\u001b[0m\u001b[0mlabels\u001b[0m\u001b[0;34m)\u001b[0m\u001b[0;34m\u001b[0m\u001b[0;34m\u001b[0m\u001b[0m\n\u001b[1;32m     44\u001b[0m             \u001b[0;31m#add transformation matrix regularization loss\u001b[0m\u001b[0;34m\u001b[0m\u001b[0;34m\u001b[0m\u001b[0;34m\u001b[0m\u001b[0m\n",
      "\u001b[0;32m/home/motion/.local/lib/python3.6/site-packages/torch/nn/modules/module.py\u001b[0m in \u001b[0;36m__call__\u001b[0;34m(self, *input, **kwargs)\u001b[0m\n\u001b[1;32m    548\u001b[0m             \u001b[0mresult\u001b[0m \u001b[0;34m=\u001b[0m \u001b[0mself\u001b[0m\u001b[0;34m.\u001b[0m\u001b[0m_slow_forward\u001b[0m\u001b[0;34m(\u001b[0m\u001b[0;34m*\u001b[0m\u001b[0minput\u001b[0m\u001b[0;34m,\u001b[0m \u001b[0;34m**\u001b[0m\u001b[0mkwargs\u001b[0m\u001b[0;34m)\u001b[0m\u001b[0;34m\u001b[0m\u001b[0;34m\u001b[0m\u001b[0m\n\u001b[1;32m    549\u001b[0m         \u001b[0;32melse\u001b[0m\u001b[0;34m:\u001b[0m\u001b[0;34m\u001b[0m\u001b[0;34m\u001b[0m\u001b[0m\n\u001b[0;32m--> 550\u001b[0;31m             \u001b[0mresult\u001b[0m \u001b[0;34m=\u001b[0m \u001b[0mself\u001b[0m\u001b[0;34m.\u001b[0m\u001b[0mforward\u001b[0m\u001b[0;34m(\u001b[0m\u001b[0;34m*\u001b[0m\u001b[0minput\u001b[0m\u001b[0;34m,\u001b[0m \u001b[0;34m**\u001b[0m\u001b[0mkwargs\u001b[0m\u001b[0;34m)\u001b[0m\u001b[0;34m\u001b[0m\u001b[0;34m\u001b[0m\u001b[0m\n\u001b[0m\u001b[1;32m    551\u001b[0m         \u001b[0;32mfor\u001b[0m \u001b[0mhook\u001b[0m \u001b[0;32min\u001b[0m \u001b[0mself\u001b[0m\u001b[0;34m.\u001b[0m\u001b[0m_forward_hooks\u001b[0m\u001b[0;34m.\u001b[0m\u001b[0mvalues\u001b[0m\u001b[0;34m(\u001b[0m\u001b[0;34m)\u001b[0m\u001b[0;34m:\u001b[0m\u001b[0;34m\u001b[0m\u001b[0;34m\u001b[0m\u001b[0m\n\u001b[1;32m    552\u001b[0m             \u001b[0mhook_result\u001b[0m \u001b[0;34m=\u001b[0m \u001b[0mhook\u001b[0m\u001b[0;34m(\u001b[0m\u001b[0mself\u001b[0m\u001b[0;34m,\u001b[0m \u001b[0minput\u001b[0m\u001b[0;34m,\u001b[0m \u001b[0mresult\u001b[0m\u001b[0;34m)\u001b[0m\u001b[0;34m\u001b[0m\u001b[0;34m\u001b[0m\u001b[0m\n",
      "\u001b[0;32m/home/motion/pointnet/model/model.py\u001b[0m in \u001b[0;36mforward\u001b[0;34m(self, x)\u001b[0m\n\u001b[1;32m    120\u001b[0m         \u001b[0mx\u001b[0m \u001b[0;34m=\u001b[0m \u001b[0mself\u001b[0m\u001b[0;34m.\u001b[0m\u001b[0mblock2\u001b[0m\u001b[0;34m(\u001b[0m\u001b[0mx\u001b[0m\u001b[0;34m)\u001b[0m \u001b[0;31m#Bx64xN\u001b[0m\u001b[0;34m\u001b[0m\u001b[0;34m\u001b[0m\u001b[0m\n\u001b[1;32m    121\u001b[0m         \u001b[0mx\u001b[0m \u001b[0;34m=\u001b[0m \u001b[0mx\u001b[0m\u001b[0;34m.\u001b[0m\u001b[0mtranspose\u001b[0m\u001b[0;34m(\u001b[0m\u001b[0;36m2\u001b[0m\u001b[0;34m,\u001b[0m\u001b[0;36m1\u001b[0m\u001b[0;34m)\u001b[0m \u001b[0;31m#BxNx64\u001b[0m\u001b[0;34m\u001b[0m\u001b[0;34m\u001b[0m\u001b[0m\n\u001b[0;32m--> 122\u001b[0;31m         \u001b[0mtransforms_2\u001b[0m \u001b[0;34m=\u001b[0m \u001b[0mself\u001b[0m\u001b[0;34m.\u001b[0m\u001b[0mtransform2\u001b[0m\u001b[0;34m(\u001b[0m\u001b[0mx\u001b[0m\u001b[0;34m)\u001b[0m \u001b[0;31m#B*64*64\u001b[0m\u001b[0;34m\u001b[0m\u001b[0;34m\u001b[0m\u001b[0m\n\u001b[0m\u001b[1;32m    123\u001b[0m         \u001b[0mx\u001b[0m \u001b[0;34m=\u001b[0m \u001b[0mtorch\u001b[0m\u001b[0;34m.\u001b[0m\u001b[0mbmm\u001b[0m\u001b[0;34m(\u001b[0m\u001b[0mx\u001b[0m\u001b[0;34m,\u001b[0m\u001b[0mtransforms_2\u001b[0m\u001b[0;34m)\u001b[0m \u001b[0;31m#BxNx64\u001b[0m\u001b[0;34m\u001b[0m\u001b[0;34m\u001b[0m\u001b[0m\n\u001b[1;32m    124\u001b[0m         \u001b[0mx\u001b[0m \u001b[0;34m=\u001b[0m \u001b[0mx\u001b[0m\u001b[0;34m.\u001b[0m\u001b[0mtranspose\u001b[0m\u001b[0;34m(\u001b[0m\u001b[0;36m2\u001b[0m\u001b[0;34m,\u001b[0m\u001b[0;36m1\u001b[0m\u001b[0;34m)\u001b[0m \u001b[0;31m#Bx64xN\u001b[0m\u001b[0;34m\u001b[0m\u001b[0;34m\u001b[0m\u001b[0m\n",
      "\u001b[0;32m/home/motion/.local/lib/python3.6/site-packages/torch/nn/modules/module.py\u001b[0m in \u001b[0;36m__call__\u001b[0;34m(self, *input, **kwargs)\u001b[0m\n\u001b[1;32m    548\u001b[0m             \u001b[0mresult\u001b[0m \u001b[0;34m=\u001b[0m \u001b[0mself\u001b[0m\u001b[0;34m.\u001b[0m\u001b[0m_slow_forward\u001b[0m\u001b[0;34m(\u001b[0m\u001b[0;34m*\u001b[0m\u001b[0minput\u001b[0m\u001b[0;34m,\u001b[0m \u001b[0;34m**\u001b[0m\u001b[0mkwargs\u001b[0m\u001b[0;34m)\u001b[0m\u001b[0;34m\u001b[0m\u001b[0;34m\u001b[0m\u001b[0m\n\u001b[1;32m    549\u001b[0m         \u001b[0;32melse\u001b[0m\u001b[0;34m:\u001b[0m\u001b[0;34m\u001b[0m\u001b[0;34m\u001b[0m\u001b[0m\n\u001b[0;32m--> 550\u001b[0;31m             \u001b[0mresult\u001b[0m \u001b[0;34m=\u001b[0m \u001b[0mself\u001b[0m\u001b[0;34m.\u001b[0m\u001b[0mforward\u001b[0m\u001b[0;34m(\u001b[0m\u001b[0;34m*\u001b[0m\u001b[0minput\u001b[0m\u001b[0;34m,\u001b[0m \u001b[0;34m**\u001b[0m\u001b[0mkwargs\u001b[0m\u001b[0;34m)\u001b[0m\u001b[0;34m\u001b[0m\u001b[0;34m\u001b[0m\u001b[0m\n\u001b[0m\u001b[1;32m    551\u001b[0m         \u001b[0;32mfor\u001b[0m \u001b[0mhook\u001b[0m \u001b[0;32min\u001b[0m \u001b[0mself\u001b[0m\u001b[0;34m.\u001b[0m\u001b[0m_forward_hooks\u001b[0m\u001b[0;34m.\u001b[0m\u001b[0mvalues\u001b[0m\u001b[0;34m(\u001b[0m\u001b[0;34m)\u001b[0m\u001b[0;34m:\u001b[0m\u001b[0;34m\u001b[0m\u001b[0;34m\u001b[0m\u001b[0m\n\u001b[1;32m    552\u001b[0m             \u001b[0mhook_result\u001b[0m \u001b[0;34m=\u001b[0m \u001b[0mhook\u001b[0m\u001b[0;34m(\u001b[0m\u001b[0mself\u001b[0m\u001b[0;34m,\u001b[0m \u001b[0minput\u001b[0m\u001b[0;34m,\u001b[0m \u001b[0mresult\u001b[0m\u001b[0;34m)\u001b[0m\u001b[0;34m\u001b[0m\u001b[0;34m\u001b[0m\u001b[0m\n",
      "\u001b[0;32m/home/motion/pointnet/model/model.py\u001b[0m in \u001b[0;36mforward\u001b[0;34m(self, x)\u001b[0m\n\u001b[1;32m     58\u001b[0m         \u001b[0mx\u001b[0m \u001b[0;34m=\u001b[0m \u001b[0mself\u001b[0m\u001b[0;34m.\u001b[0m\u001b[0mblock6\u001b[0m\u001b[0;34m(\u001b[0m\u001b[0mx\u001b[0m\u001b[0;34m)\u001b[0m \u001b[0;31m#Bx input_d**2 (row major of matrix)\u001b[0m\u001b[0;34m\u001b[0m\u001b[0;34m\u001b[0m\u001b[0m\n\u001b[1;32m     59\u001b[0m \u001b[0;34m\u001b[0m\u001b[0m\n\u001b[0;32m---> 60\u001b[0;31m         \u001b[0mindentity_matrix\u001b[0m \u001b[0;34m=\u001b[0m \u001b[0mtorch\u001b[0m\u001b[0;34m.\u001b[0m\u001b[0meye\u001b[0m\u001b[0;34m(\u001b[0m\u001b[0mself\u001b[0m\u001b[0;34m.\u001b[0m\u001b[0minput_d\u001b[0m\u001b[0;34m)\u001b[0m\u001b[0;34m.\u001b[0m\u001b[0mview\u001b[0m\u001b[0;34m(\u001b[0m\u001b[0mself\u001b[0m\u001b[0;34m.\u001b[0m\u001b[0minput_d\u001b[0m\u001b[0;34m**\u001b[0m\u001b[0;36m2\u001b[0m\u001b[0;34m)\u001b[0m\u001b[0;34m.\u001b[0m\u001b[0mto\u001b[0m\u001b[0;34m(\u001b[0m\u001b[0mdevice\u001b[0m\u001b[0;34m)\u001b[0m\u001b[0;34m\u001b[0m\u001b[0;34m\u001b[0m\u001b[0m\n\u001b[0m\u001b[1;32m     61\u001b[0m         \u001b[0mx\u001b[0m \u001b[0;34m+=\u001b[0m \u001b[0mindentity_matrix\u001b[0m\u001b[0;34m\u001b[0m\u001b[0;34m\u001b[0m\u001b[0m\n\u001b[1;32m     62\u001b[0m \u001b[0;34m\u001b[0m\u001b[0m\n",
      "\u001b[0;31mKeyboardInterrupt\u001b[0m: "
     ]
    },
    {
     "data": {
      "image/png": "[encoded data removed]",
      "text/plain": [
       "<matplotlib.figure.Figure at 0x7f39796bae10>"
      ]
     },
     "metadata": {},
     "output_type": "display_data"
    }
   ],
   "source": [
    "##training loop\n",
    "train_losses = []\n",
    "train_iterations = []\n",
    "test_losses = []\n",
    "test_iterations = []\n",
    "\n",
    "\n",
    "for epoch in range(EPOCHS):\n",
    "    optimizer.zero_grad()\n",
    "    net.train() \n",
    "    #load the batch of data\n",
    "    data,labels = sample_data(ModelNet40Data.train,BATCH_SIZE)\n",
    "    data = torch.from_numpy(data).float().to(device)\n",
    "    labels = torch.from_numpy(labels).to(device)\n",
    "    \n",
    "    #compute the loss\n",
    "    preds,M2 = net(data)\n",
    "    loss = criterion(preds,labels)\n",
    "    \n",
    "    #add transformation matrix regularization loss\n",
    "    I = torch.eye(64).unsqueeze(0).to(device)\n",
    "    loss2 = torch.mean(torch.norm(torch.bmm(M2,M2.transpose(2,1)) - I, dim=(1,2)))    \n",
    "    loss += REG_WEIGHT*loss2\n",
    "    \n",
    "    train_losses.append(loss.detach().cpu())\n",
    "    train_iterations.append(epoch)\n",
    "    train_accuracy = compute_accuracy(preds,labels)\n",
    "    #step the optimizer\n",
    "    \n",
    "    loss.backward()\n",
    "    optimizer.step()\n",
    "    scheduler.step()\n",
    "    \n",
    "    if epoch%TEST_EVERY == 0:\n",
    "        with torch.no_grad():\n",
    "            net.eval()\n",
    "            #load the batch of test data (batch size couldn't be too big)\n",
    "            data,labels = sample_data(ModelNet40Data.test,32)\n",
    "            data = torch.from_numpy(data).float().to(device)\n",
    "            labels = torch.from_numpy(labels).to(device)\n",
    "            \n",
    "            preds,M2 = net(data)\n",
    "            test_loss = criterion(preds,labels)\n",
    "            #add transformation matrix regularization loss\n",
    "            I = torch.eye(64).unsqueeze(0).to(device)\n",
    "            test_loss2 = torch.mean(torch.norm(torch.bmm(M2,M2.transpose(2,1)) - I, dim=(1,2)))    \n",
    "            test_loss += REG_WEIGHT*test_loss2\n",
    "\n",
    "            test_losses.append(test_loss.detach().cpu())\n",
    "            test_iterations.append(epoch)\n",
    "            test_accuracy = compute_accuracy(preds,labels)\n",
    "            print('Epoch:',epoch, ';train and test accuracies:',train_accuracy,test_accuracy)\n",
    "\n",
    "#     clear_output()\n",
    "    plt.plot(train_iterations, train_losses, 'b',test_iterations, test_losses, 'r')\n",
    "    plt.xlabel('Epoch')\n",
    "    plt.ylabel('Loss') \n",
    "    plt.legend(['Train','Test'])\n",
    "    plt.title('Epoch vs Loss')\n",
    "#     plt.show()\n",
    "    plt.savefig(\"./cls_losses.png\") # save graph for training visualization"
   ]
  },
  {
   "cell_type": "code",
   "execution_count": null,
   "metadata": {},
   "outputs": [],
   "source": [
    "# save stuff\n",
    "torch.save(net.state_dict(), 'classification_model')"
   ]
  },
  {
   "cell_type": "code",
   "execution_count": null,
   "metadata": {},
   "outputs": [],
   "source": [
    "# ##\n",
    "# filehandler = open('classification_train_iterations', 'wb') \n",
    "# pickle.dump(train_iterations, filehandler)\n",
    "# filehandler = open('classification_train_losses', 'wb') \n",
    "# pickle.dump(train_losses, filehandler)\n",
    "# filehandler = open('classification_test_iterations', 'wb') \n",
    "# pickle.dump(test_iterations, filehandler)\n",
    "# filehandler = open('classification_test_losses', 'wb') \n",
    "# pickle.dump(test_losses, filehandler)"
   ]
  },
  {
   "cell_type": "code",
   "execution_count": null,
   "metadata": {},
   "outputs": [],
   "source": []
  },
  {
   "cell_type": "code",
   "execution_count": null,
   "metadata": {},
   "outputs": [],
   "source": []
  }
 ],
 "metadata": {
  "kernelspec": {
   "display_name": "Python 3",
   "language": "python",
   "name": "python3"
  },
  "language_info": {
   "codemirror_mode": {
    "name": "ipython",
    "version": 3
   },
   "file_extension": ".py",
   "mimetype": "text/x-python",
   "name": "python",
   "nbconvert_exporter": "python",
   "pygments_lexer": "ipython3",
   "version": "3.6.9"
  }
 },
 "nbformat": 4,
 "nbformat_minor": 2
}
